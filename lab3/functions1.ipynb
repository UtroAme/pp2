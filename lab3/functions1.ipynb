{
 "cells": [
  {
   "cell_type": "code",
   "execution_count": 28,
   "metadata": {},
   "outputs": [
    {
     "name": "stdout",
     "output_type": "stream",
     "text": [
      "28.35 ounces\n",
      "10 ounces\n"
     ]
    }
   ],
   "source": [
    "#Task1\n",
    "class Weight():\n",
    "    def __init__(self, m, unit):\n",
    "      self.m = m\n",
    "      self.unit = unit\n",
    "      \n",
    "\n",
    "    def toOunces(self):\n",
    "      if self.unit.lower() == \"grams\"  :\n",
    "         return f\"{(28.3495231 * self.m):.2f} ounces\"\n",
    "      return f\"{self.m} ounces\"\n",
    "        \n",
    "      \n",
    "w1 = Weight(1, \"Grams\")\n",
    "w2 = Weight(10, \"ounces\")\n",
    "\n",
    "print(w1.toOunces())\n",
    "print(w2.toOunces())"
   ]
  },
  {
   "cell_type": "code",
   "execution_count": 27,
   "metadata": {},
   "outputs": [
    {
     "name": "stdout",
     "output_type": "stream",
     "text": [
      "37.78 C\n",
      "37 C\n"
     ]
    }
   ],
   "source": [
    "#Task2 \n",
    "class Temperature():\n",
    "    def __init__(self, t, unit):\n",
    "       self.t=t\n",
    "       self.unit=unit\n",
    "\n",
    "    def conversion(self):\n",
    "       if self.unit.upper() == \"F\":\n",
    "          return f\"{((5/9) * (self.t - 32)):.2f} C\"\n",
    "       return f\"{self.t} C\"\n",
    "    \n",
    "T1 = Temperature(100, \"F\")\n",
    "T2 = Temperature(37, \"C\")\n",
    "print(T1.conversion())\n",
    "print(T2.conversion())"
   ]
  },
  {
   "cell_type": "code",
   "execution_count": 30,
   "metadata": {},
   "outputs": [
    {
     "name": "stdout",
     "output_type": "stream",
     "text": [
      "Rabbits:12, Chikens:23\n"
     ]
    }
   ],
   "source": [
    "#Task 3\n",
    "class puzzle():\n",
    "    def __init__ (self, heads, legs):\n",
    "        self.heads = heads\n",
    "        self.legs = legs\n",
    "    \n",
    "    def solution(self,):\n",
    "        rabbits = (self.legs - 2 * self.heads) // 2 \n",
    "        chickens = self.heads - rabbits\n",
    "\n",
    "        return f\"Rabbits:{rabbits}, Chikens:{chickens}\"\n",
    "\n",
    "p1 = puzzle(35, 94)\n",
    "print(p1.solution())"
   ]
  },
  {
   "cell_type": "code",
   "execution_count": null,
   "metadata": {},
   "outputs": [],
   "source": [
    "#Task 4\n"
   ]
  },
  {
   "cell_type": "code",
   "execution_count": 3,
   "metadata": {},
   "outputs": [
    {
     "name": "stdout",
     "output_type": "stream",
     "text": [
      "qwe\n",
      "qew\n",
      "wqe\n",
      "weq\n",
      "ewq\n",
      "eqw\n"
     ]
    }
   ],
   "source": [
    "#Task 5\n",
    "def next_permutation(string, step = 0):\n",
    "\n",
    "    if step == len(string):\n",
    "        print(\"\".join(string))\n",
    "        return\n",
    "\n",
    "    for i in range(step, len(string)):\n",
    "        string_list = list(string)\n",
    "        string_list[step], string_list[i] = string_list[i], string_list[step]\n",
    "        next_permutation(string_list, step + 1)\n",
    "\n",
    "word = input()\n",
    "next_permutation(word)"
   ]
  },
  {
   "cell_type": "code",
   "execution_count": 15,
   "metadata": {},
   "outputs": [
    {
     "name": "stdout",
     "output_type": "stream",
     "text": [
      "ready are We\n"
     ]
    }
   ],
   "source": [
    "#Task 6\n",
    "def replace(string):\n",
    "    string_list = list(string.split())\n",
    "    string_list.reverse()\n",
    "    print(\" \".join(string_list))\n",
    "\n",
    "x = \"We are ready\"\n",
    "replace(x)"
   ]
  },
  {
   "cell_type": "code",
   "execution_count": 24,
   "metadata": {},
   "outputs": [
    {
     "name": "stdout",
     "output_type": "stream",
     "text": [
      "True\n",
      "False\n",
      "False\n"
     ]
    }
   ],
   "source": [
    "#Task 7\n",
    "def has_33(nums):\n",
    "    for i in range(len(nums) - 1):\n",
    "        if nums[i] == 3 and nums[i+1]== 3:\n",
    "            print(True)\n",
    "            return\n",
    "        \n",
    "    print (False)\n",
    "        \n",
    "has_33([1, 3, 3])\n",
    "has_33([1, 3, 1, 3])\n",
    "has_33([3, 1, 3])"
   ]
  },
  {
   "cell_type": "code",
   "execution_count": 28,
   "metadata": {},
   "outputs": [
    {
     "name": "stdout",
     "output_type": "stream",
     "text": [
      "True\n",
      "True\n",
      "False\n"
     ]
    }
   ],
   "source": [
    "#Task 8\n",
    "def spy_game(nums):\n",
    "    code = [ 0, 0, 7]\n",
    "    idx = 0\n",
    "\n",
    "    for num in nums:\n",
    "        if num == code[idx]:\n",
    "            idx += 1\n",
    "        if idx == len(code):\n",
    "            print(True)\n",
    "            return\n",
    "    print(False)\n",
    "\n",
    "spy_game([1,2,4,0,0,7,5])\n",
    "spy_game([1,0,2,4,0,5,7])\n",
    "spy_game([1,7,2,0,4,5,0])"
   ]
  },
  {
   "cell_type": "code",
   "execution_count": 36,
   "metadata": {},
   "outputs": [
    {
     "name": "stdout",
     "output_type": "stream",
     "text": [
      "volume:33.49\n"
     ]
    }
   ],
   "source": [
    "#Task 9\n",
    "def volume(r):\n",
    "    V = (4/3) * 3.14 * r**3\n",
    "    print(f\"volume:{V:.2f}\")\n",
    "\n",
    "volume(2)"
   ]
  },
  {
   "cell_type": "code",
   "execution_count": 40,
   "metadata": {},
   "outputs": [
    {
     "name": "stdout",
     "output_type": "stream",
     "text": [
      "[1, 23, 3, 2, 4, 6, 65, 5]\n"
     ]
    }
   ],
   "source": [
    "#Task 10\n",
    "def uniq(nums):\n",
    "    uniqNums = []\n",
    "    for num in nums:\n",
    "        if num not in uniqNums:\n",
    "            uniqNums.append(num)\n",
    "\n",
    "    print(uniqNums)\n",
    "\n",
    "x = [1,1,23,3,23,2,4,4,6,65,5,6]\n",
    "uniq(x)"
   ]
  },
  {
   "cell_type": "code",
   "execution_count": 43,
   "metadata": {},
   "outputs": [
    {
     "name": "stdout",
     "output_type": "stream",
     "text": [
      "Is polindrome\n",
      "Is NOT polindrome\n"
     ]
    }
   ],
   "source": [
    "#Task 11\n",
    "def polindrome(string):\n",
    "    string_list = list(string)\n",
    "    string_list.reverse()\n",
    "    reverseSrt = \"\".join(string_list)\n",
    "    if string == reverseSrt:\n",
    "        print(\"Is polindrome\")\n",
    "    else: print(\"Is NOT polindrome\")\n",
    "\n",
    "\n",
    "polindrome(\"madam\")\n",
    "polindrome(\"KBTU\")"
   ]
  },
  {
   "cell_type": "code",
   "execution_count": 44,
   "metadata": {},
   "outputs": [
    {
     "name": "stdout",
     "output_type": "stream",
     "text": [
      "****\n",
      "*********\n",
      "*******\n"
     ]
    }
   ],
   "source": [
    "#Task 12\n",
    "def histogram(nums):\n",
    "    for num in nums:\n",
    "        print('*' * num)\n",
    "\n",
    "histogram([4,9,7])"
   ]
  },
  {
   "cell_type": "code",
   "execution_count": 50,
   "metadata": {},
   "outputs": [
    {
     "name": "stdout",
     "output_type": "stream",
     "text": [
      "Hello! What is ypur name?\n",
      "Utro\n",
      "Well, Utro, I am thinking of a number beetween 1 and 20.\n",
      "Take a guess.\n",
      "Your guess is too low\n",
      "Take a guess.\n",
      "Your guess is too hight\n",
      "Take a guess.\n",
      "Your guess is too low\n",
      "Take a guess.\n",
      "Your guess is too low\n",
      "Take a guess.\n",
      "Your guess is too low\n",
      "Take a guess.\n",
      "Good job, Utro! You guessed my number in 6 guesses!\n"
     ]
    }
   ],
   "source": [
    "#Task 13\n",
    "import random\n",
    "\n",
    "\n",
    "def guess(num,randomNum,trys=1):\n",
    "    if num == randomNum:\n",
    "        print(f\"Good job, {name}! You guessed my number in {trys} guesses!\")\n",
    "        return\n",
    "    else:\n",
    "        if num > randomNum:\n",
    "            print(\"Your guess is too hight\")\n",
    "        else:\n",
    "            print(\"Your guess is too low\")\n",
    "\n",
    "        print(\"Take a guess.\")\n",
    "        num = int(input())\n",
    "        trys += 1\n",
    "\n",
    "        guess(num, randomNum,trys)\n",
    "\n",
    "print(\"Hello! What is ypur name?\")\n",
    "name = input()\n",
    "print(name)\n",
    "print(f\"Well, {name}, I am thinking of a number beetween 1 and 20.\")\n",
    "randomNum = random.randint(1,20)\n",
    "print(\"Take a guess.\")\n",
    "num = int(input())\n",
    "guess(num, randomNum)"
   ]
  },
  {
   "cell_type": "code",
   "execution_count": null,
   "metadata": {},
   "outputs": [],
   "source": [
    "#TAsk 14"
   ]
  }
 ],
 "metadata": {
  "kernelspec": {
   "display_name": "Python 3",
   "language": "python",
   "name": "python3"
  },
  "language_info": {
   "codemirror_mode": {
    "name": "ipython",
    "version": 3
   },
   "file_extension": ".py",
   "mimetype": "text/x-python",
   "name": "python",
   "nbconvert_exporter": "python",
   "pygments_lexer": "ipython3",
   "version": "3.13.1"
  }
 },
 "nbformat": 4,
 "nbformat_minor": 2
}
