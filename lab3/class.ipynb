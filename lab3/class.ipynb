{
 "cells": [
  {
   "cell_type": "code",
   "execution_count": 1,
   "metadata": {},
   "outputs": [
    {
     "name": "stdout",
     "output_type": "stream",
     "text": [
      "QWERTY\n"
     ]
    }
   ],
   "source": [
    "#Task1\n",
    "class MyClass():\n",
    "    '''get string and upper output'''\n",
    "    def __init__(self, name):\n",
    "        self.name = \"\"\n",
    "\n",
    "    def getString(self):\n",
    "        self.name = input()\n",
    "\n",
    "    def printString(self):\n",
    "        print(self.name.upper())\n",
    "\n",
    "player1 = MyClass(\"\")\n",
    "player1.getString()\n",
    "player1.printString()"
   ]
  },
  {
   "cell_type": "code",
   "execution_count": 2,
   "metadata": {},
   "outputs": [
    {
     "name": "stdout",
     "output_type": "stream",
     "text": [
      "25\n"
     ]
    }
   ],
   "source": [
    "#Task2\n",
    "class Shape():\n",
    "    def area(self):\n",
    "        return 0\n",
    "    \n",
    "class Square(Shape):\n",
    "    '''find Square'''\n",
    "    def __init__(self, length):\n",
    "        self.length = length\n",
    "\n",
    "    def area(self):\n",
    "        return (self.length)**2\n",
    "    \n",
    "sq = Square(5)\n",
    "print(sq.area())"
   ]
  },
  {
   "cell_type": "code",
   "execution_count": 6,
   "metadata": {},
   "outputs": [
    {
     "name": "stdout",
     "output_type": "stream",
     "text": [
      "24\n"
     ]
    }
   ],
   "source": [
    "#Task3\n",
    "class Rectangle(Shape):\n",
    "    def __init__(self, length, width):\n",
    "        self.length = length\n",
    "        self.width = width\n",
    "\n",
    "    def area(self):\n",
    "        return (self.length * self.width)\n",
    "\n",
    "   \n",
    "rect = Rectangle(4, 6)\n",
    "print(rect.area())"
   ]
  },
  {
   "cell_type": "code",
   "execution_count": 1,
   "metadata": {},
   "outputs": [
    {
     "name": "stdout",
     "output_type": "stream",
     "text": [
      "(1, 2)\n",
      "(3, 4)\n",
      "2.8284271247461903\n"
     ]
    }
   ],
   "source": [
    "#Task4\n",
    "import math\n",
    "class Point():\n",
    "    '''distance between points'''\n",
    "    def __init__(self, x, y):\n",
    "        self.x = x\n",
    "        self.y = y\n",
    "\n",
    "    def show(self):\n",
    "        print(f\"({self.x}, {self.y})\")\n",
    " \n",
    "    def move(self, new_x, new_y):\n",
    "        self.x = new_x\n",
    "        self.y = new_y\n",
    "\n",
    "    def dist(self, other_point):\n",
    "        return math.sqrt((self.x - other_point.x)**2 + (self.y - other_point.y) ** 2)\n",
    "\n",
    "\n",
    "p1 = Point(1,2)\n",
    "p2 = Point(3,4)\n",
    "\n",
    "p1.show()\n",
    "p2.show()\n",
    "\n",
    "print(p1.dist(p2))"
   ]
  },
  {
   "cell_type": "code",
   "execution_count": 10,
   "metadata": {},
   "outputs": [
    {
     "name": "stdout",
     "output_type": "stream",
     "text": [
      "200 added.New balance:300\n",
      "100 taken. New balance:200\n",
      "NO MONEY ON BALANCE\n"
     ]
    }
   ],
   "source": [
    "#Task5 \n",
    "class FPI_Bank():\n",
    "    def __init__(self, owner, balance=0):\n",
    "        self.owner = owner\n",
    "        self.balance = balance\n",
    "\n",
    "    def deposit(self, amount):\n",
    "        if amount > 0:\n",
    "            self.balance += amount\n",
    "            print(f\"{amount} added.New balance:{self.balance}\")\n",
    "        else:\n",
    "            print(\"deposit can't be 0\")\n",
    "\n",
    "    def withdraw(self, amount):\n",
    "        if 0 < amount <= self.balance:\n",
    "            self.balance -= amount\n",
    "            print(f\"{amount} taken. New balance:{self.balance}\")\n",
    "        else:\n",
    "             print(\"NO MONEY ON BALANCE\")\n",
    "\n",
    "class Account:\n",
    "    pass\n",
    "\n",
    "   \n",
    "person1 = FPI_Bank(\"Masha\",100)\n",
    "person1.deposit(200)\n",
    "person1.withdraw(100)\n",
    "person1.withdraw(1000)      "
   ]
  },
  {
   "cell_type": "code",
   "execution_count": 6,
   "metadata": {},
   "outputs": [
    {
     "name": "stdout",
     "output_type": "stream",
     "text": [
      "[2, 3, 7, 5, 17]\n"
     ]
    }
   ],
   "source": [
    "#Task 6\n",
    "def is_prime(n):\n",
    "    if n < 2:\n",
    "        return False\n",
    "    return all(n % i != 0 for i in range(2, int(n** 0.5) + 1))\n",
    "\n",
    "numbers = [1,4,2,3,7,5,6,20,17]\n",
    "\n",
    "primeNums= list(filter(lambda x: is_prime(x), numbers))\n",
    "\n",
    "print(primeNums)"
   ]
  }
 ],
 "metadata": {
  "kernelspec": {
   "display_name": "Python 3",
   "language": "python",
   "name": "python3"
  },
  "language_info": {
   "codemirror_mode": {
    "name": "ipython",
    "version": 3
   },
   "file_extension": ".py",
   "mimetype": "text/x-python",
   "name": "python",
   "nbconvert_exporter": "python",
   "pygments_lexer": "ipython3",
   "version": "3.13.1"
  }
 },
 "nbformat": 4,
 "nbformat_minor": 2
}
