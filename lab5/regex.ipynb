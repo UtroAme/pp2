{
 "cells": [
  {
   "cell_type": "code",
   "execution_count": 2,
   "metadata": {},
   "outputs": [
    {
     "name": "stdout",
     "output_type": "stream",
     "text": [
      "['a', 'a', 'a', 'a', 'a', 'a', 'a', 'a', 'a', 'a', 'a', 'a', 'a', 'a', 'a', 'a', 'a', 'a', 'a', 'a', 'a', 'a', 'a', 'a', 'a', 'a', 'a', 'a', 'a', 'a', 'a', 'a', 'a', 'a', 'a', 'a', 'a', 'a', 'a', 'a']\n"
     ]
    }
   ],
   "source": [
    "#Task1\n",
    "import re\n",
    "\n",
    "with open(\"regex_test.txt\", \"r\", encoding=\"utf-8\") as file:\n",
    "    txt = file.read()\n",
    "\n",
    "x = re.findall(\"ab*\", txt)\n",
    "print(x)"
   ]
  },
  {
   "cell_type": "code",
   "execution_count": 22,
   "metadata": {},
   "outputs": [
    {
     "name": "stdout",
     "output_type": "stream",
     "text": [
      "[]\n"
     ]
    }
   ],
   "source": [
    "#Task 2\n",
    "x = re.findall(r\"ab{2,3}\", txt)\n",
    "print(x)"
   ]
  },
  {
   "cell_type": "code",
   "execution_count": 23,
   "metadata": {},
   "outputs": [
    {
     "name": "stdout",
     "output_type": "stream",
     "text": [
      "['banana_apple', 'best_match', 'email_address']\n"
     ]
    }
   ],
   "source": [
    "#Task3\n",
    "x  = re.findall(r\"\\b[a-z]+_[a-z]+\\b\",txt)\n",
    "print(x)\n"
   ]
  },
  {
   "cell_type": "code",
   "execution_count": 24,
   "metadata": {},
   "outputs": [
    {
     "name": "stdout",
     "output_type": "stream",
     "text": [
      "['Some', 'Hello', 'World', 'Camel', 'Case', 'Example', 'Convert', 'This', 'To', 'Snake', 'Case', 'This', 'Upper', 'Case', 'Find', 'There', 'Another']\n"
     ]
    }
   ],
   "source": [
    "#Task4\n",
    "x = re.findall(r\"[A-Z][a-z]+\", txt)\n",
    "print(x)"
   ]
  },
  {
   "cell_type": "code",
   "execution_count": 37,
   "metadata": {},
   "outputs": [
    {
     "name": "stdout",
     "output_type": "stream",
     "text": [
      "[]\n"
     ]
    }
   ],
   "source": [
    "#Task5\n",
    "x = re.findall(r\"a.*b$\", txt)\n",
    "print(x)"
   ]
  },
  {
   "cell_type": "code",
   "execution_count": 40,
   "metadata": {},
   "outputs": [
    {
     "name": "stdout",
     "output_type": "stream",
     "text": [
      ":\n",
      "banana_apple:is:a:fruit:combination:\n",
      "best_match:found:in:the:dataset:\n",
      "Some_random_text:with:snake_case_words:\n",
      "HelloWorld:and:CamelCaseExample:\n",
      "ConvertThisToSnakeCase:\n",
      "This:sentence:contains:a:mix:of:UpperCase:and:lowercase:words:\n",
      "email_address@example:com:is:a:valid:email:\n",
      "Find:sequences:of:lowercase_words_with_underscores:\n",
      "There:are:numbers:like:123:and:special:characters:!@#$%^&*():in:this:text:\n",
      "a:string:that:ends:with:b:\n",
      "Another:example:where:a:::b:should:match:\n",
      "\n"
     ]
    }
   ],
   "source": [
    "#Task6\n",
    "x = re.sub(r\"[ ,.]\" , \":\", txt)\n",
    "print(x)"
   ]
  },
  {
   "cell_type": "code",
   "execution_count": null,
   "metadata": {},
   "outputs": [
    {
     "name": "stdout",
     "output_type": "stream",
     "text": [
      "HelloWorldExample\n"
     ]
    }
   ],
   "source": [
    "#Task7\n",
    "txt = \"hello_world_example\"\n",
    "\n",
    "words = re.split(r\"_\", txt)\n",
    "camel_case_str = \"\".join(word.capitalize() for word in words) \n",
    "\n",
    "print(camel_case_str) \n"
   ]
  },
  {
   "cell_type": "code",
   "execution_count": 3,
   "metadata": {},
   "outputs": [
    {
     "name": "stdout",
     "output_type": "stream",
     "text": [
      "['', 'Hello', 'World']\n"
     ]
    }
   ],
   "source": [
    "#Task8\n",
    "text = \"HelloWorld\"\n",
    "words = re.split(r\"(?=[A-Z])\",text)\n",
    "print(words)"
   ]
  },
  {
   "cell_type": "code",
   "execution_count": 5,
   "metadata": {},
   "outputs": [
    {
     "name": "stdout",
     "output_type": "stream",
     "text": [
      "Abraca Dabra Boom\n"
     ]
    }
   ],
   "source": [
    "#Task9\n",
    "text = \"AbracaDabraBoom\"\n",
    "x = re.sub(r\"([a-z])([A-Z])\", r\"\\1 \\2\", text)\n",
    "print(x)"
   ]
  },
  {
   "cell_type": "code",
   "execution_count": 6,
   "metadata": {},
   "outputs": [
    {
     "name": "stdout",
     "output_type": "stream",
     "text": [
      "hello_world\n"
     ]
    }
   ],
   "source": [
    "#Task10\n",
    "text = \"HelloWorld\"\n",
    "x = re.sub(r\"([a-z])([A-Z])\", r\"\\1_\\2\", text).lower()\n",
    "print(x)"
   ]
  }
 ],
 "metadata": {
  "kernelspec": {
   "display_name": "Python 3",
   "language": "python",
   "name": "python3"
  },
  "language_info": {
   "codemirror_mode": {
    "name": "ipython",
    "version": 3
   },
   "file_extension": ".py",
   "mimetype": "text/x-python",
   "name": "python",
   "nbconvert_exporter": "python",
   "pygments_lexer": "ipython3",
   "version": "3.13.1"
  }
 },
 "nbformat": 4,
 "nbformat_minor": 2
}
