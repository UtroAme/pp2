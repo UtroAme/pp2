{
 "cells": [
  {
   "cell_type": "code",
   "execution_count": 3,
   "metadata": {},
   "outputs": [
    {
     "name": "stdout",
     "output_type": "stream",
     "text": [
      "radian: 0.261799\n"
     ]
    }
   ],
   "source": [
    "#task1\n",
    "import math\n",
    "\n",
    "def degrees_to_radians(degrees):\n",
    "    return degrees * (math.pi/180)\n",
    "\n",
    "degrees = float(input())\n",
    "print(f\"radian: {degrees_to_radians(degrees):.6f}\")"
   ]
  },
  {
   "cell_type": "code",
   "execution_count": null,
   "metadata": {},
   "outputs": [
    {
     "name": "stdout",
     "output_type": "stream",
     "text": [
      "27.5\n"
     ]
    }
   ],
   "source": [
    "#task2\n",
    "def area_trapezoid(hight, a, b):\n",
    "  return 0.5*(a + b)* hight\n",
    "\n",
    "hight = float(input())\n",
    "b = float(input())\n",
    "a = float(input())\n",
    "print(area_trapezoid(hight, a, b))"
   ]
  },
  {
   "cell_type": "code",
   "execution_count": 8,
   "metadata": {},
   "outputs": [
    {
     "name": "stdout",
     "output_type": "stream",
     "text": [
      "625.0000000000001\n"
     ]
    }
   ],
   "source": [
    "#task3\n",
    "import math\n",
    "\n",
    "def regular_polygon_are(n, side_len):\n",
    "    return(n * side_len **2) / (4 * math.tan(math.pi / n))\n",
    "\n",
    "n = int(input())\n",
    "side_len = int(input())\n",
    "\n",
    "print(regular_polygon_are(n, side_len))"
   ]
  },
  {
   "cell_type": "code",
   "execution_count": 10,
   "metadata": {},
   "outputs": [
    {
     "name": "stdout",
     "output_type": "stream",
     "text": [
      "30.0\n"
     ]
    }
   ],
   "source": [
    "#task4\n",
    "import math\n",
    "\n",
    "def area_parallelogram(a, hight):\n",
    "    return a * hight\n",
    "\n",
    "print(float(area_parallelogram(5,6)))"
   ]
  }
 ],
 "metadata": {
  "kernelspec": {
   "display_name": "Python 3",
   "language": "python",
   "name": "python3"
  },
  "language_info": {
   "codemirror_mode": {
    "name": "ipython",
    "version": 3
   },
   "file_extension": ".py",
   "mimetype": "text/x-python",
   "name": "python",
   "nbconvert_exporter": "python",
   "pygments_lexer": "ipython3",
   "version": "3.13.1"
  }
 },
 "nbformat": 4,
 "nbformat_minor": 2
}
