{
 "cells": [
  {
   "cell_type": "code",
   "execution_count": null,
   "metadata": {},
   "outputs": [
    {
     "name": "stdout",
     "output_type": "stream",
     "text": [
      "5 days before:02/10/25\n"
     ]
    }
   ],
   "source": [
    "#Task1\n",
    "from datetime import date, timedelta\n",
    "\n",
    "x = datetime.datetime.now()\n",
    "new_date = x - timedelta(days=5)\n",
    "\n",
    "print(f\"5 days before:{new_date.strftime(\"%m%d\")}\")"
   ]
  },
  {
   "cell_type": "code",
   "execution_count": 9,
   "metadata": {},
   "outputs": [
    {
     "name": "stdout",
     "output_type": "stream",
     "text": [
      "Yesterday:02/14, today:02/15, tomorrow:02/16\n"
     ]
    }
   ],
   "source": [
    "#task2\n",
    "from datetime import date, timedelta\n",
    "\n",
    "today= datetime.datetime.now()\n",
    "yesterday = today - timedelta(days = 1)\n",
    "tomorrow = today + timedelta(days = 1)\n",
    "\n",
    "print(f\"Yesterday:{yesterday.strftime(\"%m/%d\")}, today:{today.strftime(\"%m/%d\")}, tomorrow:{tomorrow.strftime(\"%m/%d\")}\")"
   ]
  },
  {
   "cell_type": "code",
   "execution_count": null,
   "metadata": {},
   "outputs": [
    {
     "name": "stdout",
     "output_type": "stream",
     "text": [
      "2025-02-15 12:56:51.148786\n",
      "2025-02-15 12:56:51\n"
     ]
    }
   ],
   "source": [
    "#task3\n",
    "import datetime\n",
    "y = datetime.datetime.now()\n",
    "print(y)\n",
    "#without microsecond\n",
    "x = datetime.datetime.now().replace(microsecond=0)\n",
    "print(x)"
   ]
  },
  {
   "cell_type": "code",
   "execution_count": 14,
   "metadata": {},
   "outputs": [
    {
     "name": "stdout",
     "output_type": "stream",
     "text": [
      "441000\n"
     ]
    }
   ],
   "source": [
    "#task4\n",
    "from datetime import datetime\n",
    "\n",
    "def date_diff_in_sec(date1, date2):\n",
    "    diff = abs((date2 - date1).total_seconds())\n",
    "    return int(diff)\n",
    "\n",
    "#enter like this (YYYY-MM-DD HH:MM:SS)\n",
    "date1_str = input()\n",
    "date2_str = input()\n",
    "\n",
    "\n",
    "date1 = datetime.strptime(date1_str, \"%Y-%m-%d %H:%M:%S\")\n",
    "date2 = datetime.strptime(date2_str, \"%Y-%m-%d %H:%M:%S\")\n",
    "\n",
    "diff_in_seconds = date_diff_in_sec(date1, date2)\n",
    "print(diff_in_seconds)"
   ]
  }
 ],
 "metadata": {
  "kernelspec": {
   "display_name": "Python 3",
   "language": "python",
   "name": "python3"
  },
  "language_info": {
   "codemirror_mode": {
    "name": "ipython",
    "version": 3
   },
   "file_extension": ".py",
   "mimetype": "text/x-python",
   "name": "python",
   "nbconvert_exporter": "python",
   "pygments_lexer": "ipython3",
   "version": "3.13.1"
  }
 },
 "nbformat": 4,
 "nbformat_minor": 2
}
