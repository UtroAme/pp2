{
 "cells": [
  {
   "cell_type": "code",
   "execution_count": null,
   "metadata": {},
   "outputs": [
    {
     "name": "stdout",
     "output_type": "stream",
     "text": [
      "Private\n"
     ]
    }
   ],
   "source": [
    "#Проверка номера\n",
    "import re\n",
    "\n",
    "number = input(\"НАпишите номер машины:\")\n",
    "letters = [\"A\",\"B\",\"E\",\"K\",\"M\",\"H\",\"O\",\"P\",\"C\",\"T\",\"Y\",\"X\"]\n",
    "\n",
    "#[\" + \"\".join(letters)+r\"] данное выражение позволяет добовлять список \n",
    "\n",
    "if re.fullmatch( r\"[\" + \"\".join(letters)+r\"]{1}\\d{3}[\" + \"\".join(letters)+r\"]{2}\\d{2,3}\", number):\n",
    "    print(\"Private\")\n",
    "elif re.fullmatch(r\"[\" + \"\".join(letters)+r\"]{2}\\d{5,6}\", number):\n",
    "    print(\"Taxi\")\n",
    "else:\n",
    "    print(\"Fail\")"
   ]
  },
  {
   "cell_type": "code",
   "execution_count": null,
   "metadata": {},
   "outputs": [
    {
     "name": "stdout",
     "output_type": "stream",
     "text": [
      "4\n"
     ]
    }
   ],
   "source": [
    "#КОличество слов\n",
    "import re\n",
    "\n",
    "#текст\n",
    "txt = '''apple babanan ok-ke'''\n",
    "\n",
    "#находим количество слов в тексте\n",
    "print(len(re.findall(r\"[a-zA-Z]+(?:-[a-zA-Z]+)*\", txt)))\n",
    "#(?:....) группировка без сохранения"
   ]
  },
  {
   "cell_type": "code",
   "execution_count": 4,
   "metadata": {},
   "outputs": [
    {
     "name": "stdout",
     "output_type": "stream",
     "text": [
      "['', 'Hello', 'World']\n"
     ]
    }
   ],
   "source": [
    "#Task8\n",
    "import re\n",
    "text = \"HelloWorld\"\n",
    "words = re.split(r\"(?=[A-Z])\",text)\n",
    "print(words)"
   ]
  },
  {
   "cell_type": "code",
   "execution_count": 11,
   "metadata": {},
   "outputs": [
    {
     "name": "stdout",
     "output_type": "stream",
     "text": [
      "['ab', 'a', 'a', 'abb', 'a', 'a']\n"
     ]
    }
   ],
   "source": [
    "#tsk1\n",
    "txt = \" ab a a abb aj ak kk\"\n",
    "\n",
    "x = re.findall(r\"ab*\", txt)\n",
    "print(x)"
   ]
  },
  {
   "cell_type": "code",
   "execution_count": 12,
   "metadata": {},
   "outputs": [
    {
     "name": "stdout",
     "output_type": "stream",
     "text": [
      "['abb']\n"
     ]
    }
   ],
   "source": [
    "x = re.findall(r\"ab{2,3}\", txt)\n",
    "print(x)"
   ]
  },
  {
   "cell_type": "code",
   "execution_count": 14,
   "metadata": {},
   "outputs": [
    {
     "name": "stdout",
     "output_type": "stream",
     "text": [
      "['bee_aka']\n"
     ]
    }
   ],
   "source": [
    "txt = \"bee_aka  ko la\"\n",
    "x = re.findall(r\"[a-z]+_[a-z]+\", txt)\n",
    "print(x)"
   ]
  },
  {
   "cell_type": "code",
   "execution_count": 16,
   "metadata": {},
   "outputs": [
    {
     "name": "stdout",
     "output_type": "stream",
     "text": [
      "['Akko', 'Miko']\n"
     ]
    }
   ],
   "source": [
    "txt = \"Akko Miko kill u\"\n",
    "x = re.findall(r\"[A-Z][a-z]+\", txt)\n",
    "print(x)"
   ]
  },
  {
   "cell_type": "code",
   "execution_count": 26,
   "metadata": {},
   "outputs": [
    {
     "name": "stdout",
     "output_type": "stream",
     "text": [
      "['akoloklb aaaab kol ob']\n"
     ]
    }
   ],
   "source": [
    "txt = \"akoloklb aaaab kol ob\"\n",
    "x = re.findall(r\"\\ba.*b\\b\", txt)\n",
    "print(x)\n"
   ]
  },
  {
   "cell_type": "code",
   "execution_count": 33,
   "metadata": {},
   "outputs": [
    {
     "name": "stdout",
     "output_type": "stream",
     "text": [
      "Pascal:bil:sina:a\n"
     ]
    }
   ],
   "source": [
    "txt = \"Pascal bil,sina.a\"\n",
    "x = re.sub(r\"[ .,]\" , \":\", txt)\n",
    "print(x)\n"
   ]
  },
  {
   "cell_type": "code",
   "execution_count": 36,
   "metadata": {},
   "outputs": [
    {
     "name": "stdout",
     "output_type": "stream",
     "text": [
      "HelloWorld\n"
     ]
    }
   ],
   "source": [
    "txt = \"Hello_World\"\n",
    "x = re.split(r\"_\", txt)\n",
    "camelCase = \"\".join(word.capitalize() for word in x)\n",
    "print(camelCase)"
   ]
  },
  {
   "cell_type": "code",
   "execution_count": 1,
   "metadata": {},
   "outputs": [
    {
     "name": "stdout",
     "output_type": "stream",
     "text": [
      "False\n"
     ]
    }
   ],
   "source": [
    "def all_words_capitalized():\n",
    "    sentence = \"Hello World This is Python\" \n",
    "    return all(word[0].isupper() for word in sentence.split() if word.isalpha())\n",
    "print(all_words_capitalized())\n",
    "\n"
   ]
  },
  {
   "cell_type": "code",
   "execution_count": 2,
   "metadata": {},
   "outputs": [
    {
     "name": "stdout",
     "output_type": "stream",
     "text": [
      "[4, 36]\n"
     ]
    }
   ],
   "source": [
    "def process_numbers():\n",
    "    nums = [1, 2, 3, 5, 6]\n",
    "    return list(map(lambda x: x**2, filter(lambda x: x % 2 == 0, nums)))\n",
    "\n",
    "print(process_numbers())"
   ]
  },
  {
   "cell_type": "code",
   "execution_count": null,
   "metadata": {},
   "outputs": [],
   "source": [
    "import json\n",
    "\n",
    "# Открываем JSON-файл и загружаем данные\n",
    "with open(\"data.json\", \"r\", encoding=\"utf-8\") as file:\n",
    "    data = json.load(file)\n",
    "\n",
    "# Вносим изменения (пример: изменяем значение ключа \"name\")\n",
    "data[\"name\"] = \"Новое имя\"\n",
    "\n",
    "# Записываем обратно в файл\n",
    "with open(\"data.json\", \"w\", encoding=\"utf-8\") as file:\n",
    "    json.dump(data, file, indent=4, ensure_ascii=False)\n",
    "\n",
    "print(\"Данные успешно обновлены!\")"
   ]
  }
 ],
 "metadata": {
  "kernelspec": {
   "display_name": ".venv",
   "language": "python",
   "name": "python3"
  },
  "language_info": {
   "codemirror_mode": {
    "name": "ipython",
    "version": 3
   },
   "file_extension": ".py",
   "mimetype": "text/x-python",
   "name": "python",
   "nbconvert_exporter": "python",
   "pygments_lexer": "ipython3",
   "version": "3.13.1"
  }
 },
 "nbformat": 4,
 "nbformat_minor": 2
}
