{
 "cells": [
  {
   "cell_type": "code",
   "execution_count": 9,
   "metadata": {},
   "outputs": [
    {
     "name": "stdout",
     "output_type": "stream",
     "text": [
      "All path:['$Recycle.Bin', 'Config', 'Documents and Settings', 'DumpStack.log.tmp', 'hiberfil.sys', 'MinGW', 'OneDriveTemp', 'pagefile.sys', 'PerfLogs', 'Program Files', 'Program Files (x86)', 'ProgramData', 'Recovery', 'Riot Games', 'swapfile.sys', 'System Volume Information', 'Users', 'Windows']\n",
      "Only files:['DumpStack.log.tmp', 'hiberfil.sys', 'pagefile.sys', 'swapfile.sys']\n",
      "Only directory:['$Recycle.Bin', 'Config', 'Documents and Settings', 'MinGW', 'OneDriveTemp', 'PerfLogs', 'Program Files', 'Program Files (x86)', 'ProgramData', 'Recovery', 'Riot Games', 'System Volume Information', 'Users', 'Windows']\n"
     ]
    }
   ],
   "source": [
    "#Task1\n",
    "import os\n",
    "from os.path import isfile, join, isdir\n",
    "\n",
    "#return everything\n",
    "path = \"/\"\n",
    "dir_list = os.listdir(path)\n",
    "\n",
    "onlyfiles = [f for f in dir_list if isfile(join(path, f))]\n",
    "onlydir = [d for d in dir_list if isdir(join(path, d))]\n",
    "\n",
    "print(f\"All path:{dir_list}\")\n",
    "print(f\"Only files:{onlyfiles}\")\n",
    "print(f\"Only directory:{onlydir}\")"
   ]
  },
  {
   "cell_type": "code",
   "execution_count": 29,
   "metadata": {},
   "outputs": [
    {
     "name": "stdout",
     "output_type": "stream",
     "text": [
      "Input: c:\\Users\\AS\\Desktop\\kbtu\\pp2\n",
      "Exist: True\n",
      "Readble: True\n",
      "Writable: True\n",
      "Executable: True\n"
     ]
    }
   ],
   "source": [
    "#Task2\n",
    "import os\n",
    "path = os.path.dirname(os.path.abspath(os.getcwd()))\n",
    "print(f\"Input: {path}\")\n",
    "print('Exist:', os.access(path, os.F_OK)) #check for exist\n",
    "print('Readble:', os.access(path, os.R_OK)) #check for readble\n",
    "print('Writable:', os.access(path, os.W_OK)) #check for writable\n",
    "print('Executable:', os.access(path, os.X_OK)) #check for executable"
   ]
  },
  {
   "cell_type": "code",
   "execution_count": 30,
   "metadata": {},
   "outputs": [
    {
     "name": "stdout",
     "output_type": "stream",
     "text": [
      "Input: c:\\Users\\AS\\Desktop\\kbtu\\pp2\\lab5\n",
      "Is existc:\\Users\\AS\\Desktop\\kbtu\\pp2\\lab5\n",
      "Directory: c:\\Users\\AS\\Desktop\\kbtu\\pp2\n",
      "Filename: lab5\n"
     ]
    }
   ],
   "source": [
    "#Task3\n",
    "import os\n",
    "path = input()\n",
    "print(f\"Input: {path}\")\n",
    "if os.access(path, os.F_OK):\n",
    "    print(f\"Is exist{path}\")\n",
    "    print(f\"Directory: {os.path.dirname(path)}\")\n",
    "    print(f\"Filename: {os.path.basename(path)}\")\n",
    "else:\n",
    "    print(\"Its not exist\")"
   ]
  },
  {
   "cell_type": "code",
   "execution_count": 34,
   "metadata": {},
   "outputs": [
    {
     "name": "stdout",
     "output_type": "stream",
     "text": [
      "Num of lines:148\n"
     ]
    }
   ],
   "source": [
    "#Task4\n",
    "with open(r\"row.txt\", \"r\", encoding=\"utf-8\") as fp:\n",
    "    lines = len(fp.readlines())\n",
    "    print(f\"Num of lines:{lines}\")"
   ]
  },
  {
   "cell_type": "code",
   "execution_count": 32,
   "metadata": {},
   "outputs": [
    {
     "name": "stdout",
     "output_type": "stream",
     "text": [
      "1/nA/nB/nc/n1/nA/nB/nc/n1/nA/nB/nc/n1 A B c 1 A B c 1 A B c 1 A B c 1 A B c 1 A B c 1 A B c 1 A B c 1 A B c 1 A B c 1 A B c 1 A B c 1 A B c 1 A B c 1 A B c 1 A B c 1 A B c 1 A B c \n"
     ]
    }
   ],
   "source": [
    "#Task5\n",
    "arr = [\"1\", \"A\", \"B\", \"c\"]\n",
    "\n",
    "f = open(\"fill.txt\", \"a\")\n",
    "for item in arr:\n",
    "    f.write(item + \" \")\n",
    "f.close()\n",
    "\n",
    "f = open(\"fill.txt\", \"r\")\n",
    "print(f.read())\n"
   ]
  },
  {
   "cell_type": "code",
   "execution_count": 33,
   "metadata": {},
   "outputs": [],
   "source": [
    "#Task6 \n",
    "import os\n",
    "import string \n",
    "\n",
    "#создает буквы алфавита \n",
    "letters  = string.ascii_uppercase \n",
    "\n",
    "for letter in letters:\n",
    "    filename = f\"{letter}.txt\"\n",
    "    with open(filename, \"w\") as file:\n",
    "        file.write(f\"File name {filename}\")\n",
    "\n"
   ]
  },
  {
   "cell_type": "code",
   "execution_count": 40,
   "metadata": {},
   "outputs": [
    {
     "name": "stdout",
     "output_type": "stream",
     "text": [
      "File name A.txtFile name B.txtFile name B.txtFile name B.txtFile name B.txtFile name B.txt\n"
     ]
    }
   ],
   "source": [
    "#Task7\n",
    "with open('B.txt', 'r') as firstfile, open('A.txt', 'a') as secondfile:\n",
    "    for line in firstfile:\n",
    "        secondfile.write(line)\n",
    "firstfile = open(\"A.txt\", \"r\")\n",
    "print(firstfile.read())"
   ]
  },
  {
   "cell_type": "code",
   "execution_count": 49,
   "metadata": {},
   "outputs": [
    {
     "name": "stdout",
     "output_type": "stream",
     "text": [
      "File is not exist\n"
     ]
    }
   ],
   "source": [
    "#task8\n",
    "path = input() #c:\\Users\\AS\\Desktop\\kbtu\\pp2\\c.txt\n",
    "if os.access(path, os.F_OK):\n",
    "  #check for exist\n",
    "  print(\"File is exist\")\n",
    "\n",
    "  #check for readble and writable\n",
    "  if os.access(path, os.R_OK) and os.access(path, os.W_OK):\n",
    "    print(\"File is readble and writable. Deletting...\")\n",
    "\n",
    "    #delet it\n",
    "    os.remove(path) \n",
    "    print(\"File was deleted\")\n",
    "  else:\n",
    "    print(\"You dont have парва\")\n",
    "else:\n",
    "  print(\"File is not exist\")\n"
   ]
  }
 ],
 "metadata": {
  "kernelspec": {
   "display_name": "Python 3",
   "language": "python",
   "name": "python3"
  },
  "language_info": {
   "codemirror_mode": {
    "name": "ipython",
    "version": 3
   },
   "file_extension": ".py",
   "mimetype": "text/x-python",
   "name": "python",
   "nbconvert_exporter": "python",
   "pygments_lexer": "ipython3",
   "version": "3.13.1"
  }
 },
 "nbformat": 4,
 "nbformat_minor": 2
}
