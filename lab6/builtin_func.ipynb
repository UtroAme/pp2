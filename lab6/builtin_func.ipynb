{
 "cells": [
  {
   "cell_type": "code",
   "execution_count": null,
   "metadata": {},
   "outputs": [
    {
     "data": {
      "text/plain": [
       "40"
      ]
     },
     "execution_count": 1,
     "metadata": {},
     "output_type": "execute_result"
    }
   ],
   "source": [
    "#Task1\n",
    "from functools import reduce\n",
    "from operator import mul\n",
    "\n",
    "x = [1,2,4,5]\n",
    "\n",
    "reduce(mul, x)"
   ]
  },
  {
   "cell_type": "code",
   "execution_count": 4,
   "metadata": {},
   "outputs": [
    {
     "name": "stdout",
     "output_type": "stream",
     "text": [
      "Num of lower:8 and num of upper:2\n"
     ]
    }
   ],
   "source": [
    "#task2\n",
    "def count(y):\n",
    "    count_lower = sum(1 for char in y if char.islower())\n",
    "    count_upper = sum(1 for char in y if char.isupper())\n",
    "    return count_lower, count_upper\n",
    "\n",
    "y = \"Hello World\"\n",
    "lower , upper = count(y)\n",
    "print(f\"Num of lower:{lower} and num of upper:{upper}\")"
   ]
  },
  {
   "cell_type": "code",
   "execution_count": 6,
   "metadata": {},
   "outputs": [
    {
     "name": "stdout",
     "output_type": "stream",
     "text": [
      "False\n",
      "True\n"
     ]
    }
   ],
   "source": [
    "#Task3\n",
    "def reverse(word):\n",
    "    return word[::-1]\n",
    "def is_polindrome(s):\n",
    "    if s == reverse(s):\n",
    "        return True\n",
    "    else:\n",
    "        return False\n",
    "    \n",
    "x = \"KBTU\"\n",
    "q = \"lol\"\n",
    "print(is_polindrome(x))\n",
    "print(is_polindrome(q))"
   ]
  },
  {
   "cell_type": "code",
   "execution_count": 1,
   "metadata": {},
   "outputs": [
    {
     "name": "stdout",
     "output_type": "stream",
     "text": [
      "Square root of 25100 after 2123 milliseconds is 158.42979517754858\n"
     ]
    }
   ],
   "source": [
    "#Task4\n",
    "import math\n",
    "import time\n",
    "\n",
    "num = int(input(\"Inout Num:\"))\n",
    "milisec = int(input(\"input time in miliseconds:\"))\n",
    "\n",
    "#ЗАдержка \n",
    "time.sleep(milisec / 1000)\n",
    "\n",
    "#square\n",
    "sqrt_value = math.sqrt(num)\n",
    "\n",
    "print(f\"Square root of {num} after {milisec} milliseconds is {sqrt_value}\")"
   ]
  },
  {
   "cell_type": "code",
   "execution_count": 8,
   "metadata": {},
   "outputs": [
    {
     "name": "stdout",
     "output_type": "stream",
     "text": [
      "True\n",
      "False\n"
     ]
    }
   ],
   "source": [
    "#Task5\n",
    "def AllTrue(x):\n",
    "    return all(x)\n",
    "\n",
    "x = (1,True, \"KO\")\n",
    "y = (0, False , True)\n",
    "print(AllTrue(x))\n",
    "print(AllTrue(y))"
   ]
  }
 ],
 "metadata": {
  "kernelspec": {
   "display_name": "Python 3",
   "language": "python",
   "name": "python3"
  },
  "language_info": {
   "codemirror_mode": {
    "name": "ipython",
    "version": 3
   },
   "file_extension": ".py",
   "mimetype": "text/x-python",
   "name": "python",
   "nbconvert_exporter": "python",
   "pygments_lexer": "ipython3",
   "version": "3.13.1"
  }
 },
 "nbformat": 4,
 "nbformat_minor": 2
}
